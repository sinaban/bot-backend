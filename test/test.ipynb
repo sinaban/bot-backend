{
 "cells": [
  {
   "cell_type": "code",
   "execution_count": 39,
   "metadata": {},
   "outputs": [
    {
     "name": "stdout",
     "output_type": "stream",
     "text": [
      "number of ( is6\n",
      "0\n",
      "1\n",
      "93\n",
      "93\n",
      "93\n",
      "93\n",
      "number of ) is6\n",
      "86\n",
      "86\n",
      "86\n",
      "86\n",
      "86\n",
      "86\n",
      "89\n",
      "86\n",
      "[\"((df['slope_atr'][last_row_index]>trading_data.pair_dict_long[pair]['atr_slope_ratio'])  \", \" (df['slowk'][last_row_index]<40) \", \" (df['slowd'][last_row_index]<40) \", \"\\n            (df['slope_slowk'][last_row_index]>5.67) \", \" (df['slope_slowd'][last_row_index]>2.75))\"]\n"
     ]
    }
   ],
   "source": [
    "sentence = \"\"\"((df['slope_atr'][last_row_index]>trading_data.pair_dict_long[pair]['atr_slope_ratio'])  and (df['slowk'][last_row_index]<40) and (df['slowd'][last_row_index]<40) and\n",
    "            (df['slope_slowk'][last_row_index]>5.67) and (df['slope_slowd'][last_row_index]>2.75))\"\"\"\n",
    " \n",
    "number=sentence.count(\"(\")\n",
    "print(f\"number of ( is{number}\")\n",
    "for i in range (sentence.count(\"(\")):\n",
    "    print(sentence.index(\"(\",i))\n",
    "\n",
    "print(f\"number of ) is{number}\")\n",
    "for i in range (sentence.count(\")\")):\n",
    "    print(sentence.index(\")\",i))\n",
    "\n",
    "index1 = sentence.index(\"and\",0)\n",
    "print(index1)\n",
    "\n",
    "index2 = sentence.index(\")\",1)\n",
    "print(index2)\n",
    "words = sentence.split('and')\n",
    "print(words)"
   ]
  },
  {
   "cell_type": "code",
   "execution_count": 44,
   "metadata": {},
   "outputs": [
    {
     "name": "stdout",
     "output_type": "stream",
     "text": [
      "number of and is 4\n",
      "number of sentences ={number_of_sentences}\n",
      "89\n",
      "86\n",
      "[\"((df['slope_atr'][last_row_index]>trading_data.pair_dict_long[pair]['atr_slope_ratio'])  \", \" \\n(df['slowk'][last_row_index]<40) \", \" (df['slowd'][last_row_index]<40) \", \"\\n            (df['slope_slowk'][last_row_index]>5.67) \", \" (df['slope_slowd'][last_row_index]>2.75))\"]\n"
     ]
    }
   ],
   "source": [
    "sentence = \"\"\"((df['slope_atr'][last_row_index]>trading_data.pair_dict_long[pair]['atr_slope_ratio'])  and \n",
    "(df['slowk'][last_row_index]<40) and (df['slowd'][last_row_index]<40) and\n",
    "            (df['slope_slowk'][last_row_index]>5.67) and (df['slope_slowd'][last_row_index]>2.75))\"\"\"\n",
    " \n",
    "def iter_split(sentence,lopr):\n",
    "    s_sent= =sentence.split(lopr,sentence.count(lopr) - 1)\n",
    "        for sent in s_sent:\n",
    "            \n",
    "andn=sentence.count(\"and\")\n",
    "orn=sentence.count(\"or\")\n",
    "\n",
    "if andn > 0 and orn > 0 :\n",
    "\n",
    "\n",
    "print(f\"number of and is {number}\")\n",
    "number_of_sentences = len(sentence.split(\"and\"))\n",
    "print(\"number of sentences ={number_of_sentences}\")\n",
    "\n",
    "index1 = sentence.index(\"and\",0)\n",
    "print(index1)\n",
    "\n",
    "index2 = sentence.index(\")\",1)\n",
    "print(index2)\n",
    "words = sentence.split('and')\n",
    "print(words)"
   ]
  },
  {
   "cell_type": "code",
   "execution_count": 1,
   "metadata": {},
   "outputs": [
    {
     "name": "stdout",
     "output_type": "stream",
     "text": [
      "i.suffix='5'\n",
      "i.CandlePricePoint='close'\n",
      "i.timeperiod='5'\n",
      "i.nbdevup='2'\n",
      "i.nbdevdn='2'\n",
      "i.matype='0'\n",
      "i.suffix='14'\n",
      "i.CandlePricePoint='close'\n",
      "i.timeperiod='12'\n",
      "i.suffix='12'\n",
      "i.CandlePricePoint='close'\n",
      "i.timeperiod='20'\n",
      "final:\n",
      "    df[\"UPPERBAND5\"], df[\"MIDDLEBAND5\"], df[\"LOWERBAND5\"] = talib.BBANDS(df[\"close\"], timeperiod=5, nbdevup=2, nbdevdn=2, matype=0)\n",
      "    df[\"DEMA14\"] =  talib.DEMA(df[\"close\"], timeperiod=12)\n",
      "    df[\"EMA12\"] =  talib.EMA(df[\"close\"], timeperiod=20)\n"
     ]
    }
   ],
   "source": [
    "from indicators import Indicator,indicator_properties\n",
    "import strategy_template as tp\n",
    "received_ind={\n",
    "    \"BBANDS5\" : { \"IndicatorName\": \"BBANDS\",\"params\" : {\"suffix\":\"5\",\"CandlePricePoint\" : \"close\", \"timeperiod\":5, \"nbdevup\":2, \"nbdevdn\":2, \"matype\":0}},\n",
    "    \"DEMA14\" : { \"IndicatorName\": \"DEMA\",\"params\" : {\"suffix\":\"14\",\"CandlePricePoint\" : \"close\", \"timeperiod\":12}},\n",
    "    \"EMA12\" : { \"IndicatorName\": \"EMA\",\"params\" : {\"suffix\":\"12\",\"CandlePricePoint\" : \"close\", \"timeperiod\":20}},\n",
    "}\n",
    "i=Indicator()\n",
    "final_indicators=\"\"\n",
    "for ind in received_ind:\n",
    "    # print(received_ind[ind]['IndicatorName'] )\n",
    "    if received_ind[ind]['IndicatorName'] in indicator_properties:\n",
    "        # print(received_ind[ind])\n",
    "        \n",
    "        for param in received_ind[ind]['params']:\n",
    "            exec(\"i.{}='{}'\".format(param,received_ind[ind]['params'][param]))\n",
    "            print(\"i.{}='{}'\".format(param,received_ind[ind]['params'][param]))\n",
    "            # print(i.(\"{}\".format(param)))\n",
    "        i.rebuild_params()\n",
    "        # print()\n",
    "        # print(\"{}\\n    {}\".format(final_indicators,i.indicator_replacement[received_ind[ind]['IndicatorName']]))\n",
    "        final_indicators= \"{}\\n    {}\".format(final_indicators,i.indicator_replacement[received_ind[ind]['IndicatorName']])\n",
    "print(f\"final:{final_indicators}\")\n",
    "\n"
   ]
  },
  {
   "cell_type": "code",
   "execution_count": 10,
   "metadata": {},
   "outputs": [
    {
     "name": "stdout",
     "output_type": "stream",
     "text": [
      "False\n"
     ]
    }
   ],
   "source": [
    "print(\"12.5\".isnumeric())"
   ]
  },
  {
   "cell_type": "code",
   "execution_count": 6,
   "metadata": {},
   "outputs": [
    {
     "name": "stdout",
     "output_type": "stream",
     "text": [
      "@\n"
     ]
    }
   ],
   "source": [
    "print(\"@12\"[0])"
   ]
  },
  {
   "cell_type": "code",
   "execution_count": 12,
   "metadata": {},
   "outputs": [
    {
     "name": "stdout",
     "output_type": "stream",
     "text": [
      "sgs\n"
     ]
    }
   ],
   "source": [
    "try:\n",
    "    float(12.5)\n",
    "    print('sgs')\n",
    "except ValueError:\n",
    "    print (\"Not a float\")"
   ]
  },
  {
   "cell_type": "code",
   "execution_count": null,
   "metadata": {},
   "outputs": [],
   "source": []
  }
 ],
 "metadata": {
  "interpreter": {
   "hash": "916dbcbb3f70747c44a77c7bcd40155683ae19c65e1c03b4aa3499c5328201f1"
  },
  "kernelspec": {
   "display_name": "Python 3.8.10 64-bit",
   "language": "python",
   "name": "python3"
  },
  "language_info": {
   "codemirror_mode": {
    "name": "ipython",
    "version": 3
   },
   "file_extension": ".py",
   "mimetype": "text/x-python",
   "name": "python",
   "nbconvert_exporter": "python",
   "pygments_lexer": "ipython3",
   "version": "3.8.10"
  },
  "orig_nbformat": 4
 },
 "nbformat": 4,
 "nbformat_minor": 2
}
