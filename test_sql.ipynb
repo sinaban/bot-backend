{
 "cells": [
  {
   "cell_type": "code",
   "execution_count": 23,
   "metadata": {},
   "outputs": [],
   "source": [
    "from flask_sqlalchemy import SQLAlchemy\n",
    "db = SQLAlchemy()\n",
    "class User(db.Model):\n",
    "    __tablename__ = 'users'\n",
    "    id = db.Column(db.Integer, primary_key=True)\n",
    "    username = db.Column(db.String(80), unique=True)\n",
    "    password = db.Column(db.String(120), unique=True)\n",
    "\n",
    "    def __init__(self, username, password):\n",
    "        self.username = username\n",
    "        self.password = password\n",
    "\n",
    "    def __repr__(self):\n",
    "        return '<User %r>' % self.username"
   ]
  },
  {
   "cell_type": "code",
   "execution_count": 2,
   "metadata": {},
   "outputs": [
    {
     "data": {
      "text/plain": [
       "[<User 'admin3'>]"
      ]
     },
     "execution_count": 2,
     "metadata": {},
     "output_type": "execute_result"
    }
   ],
   "source": [
    "from flask import Flask\n",
    "from flask_sqlalchemy import SQLAlchemy\n",
    "from urllib.parse import  quote\n",
    "\n",
    "app = Flask(__name__)\n",
    "app.config['SQLALCHEMY_DATABASE_URI'] = 'mysql+pymysql://root:%s@localhost/bot_trades'% quote('ro0t!@#')\n",
    "app.config['SQLALCHEMY_TRACK_MODIFICATIONS'] = False\n",
    "app.config['PROPAGATE_EXCEPTIONS'] = True\n",
    "app.secret_key = 'jose'\n",
    "db = SQLAlchemy(app)\n",
    "db.init_app(app)\n",
    "\n",
    "# api = Api(app)\n",
    "class User(db.Model):\n",
    "    __tablename__ = 'user'\n",
    "    id = db.Column(db.Integer, primary_key=True)\n",
    "    username = db.Column(db.String(80), unique=True)\n",
    "    password = db.Column(db.String(120), unique=True)\n",
    "\n",
    "    def __init__(self, username, password):\n",
    "        self.username = username\n",
    "        self.password = password\n",
    "\n",
    "    def __repr__(self):\n",
    "        return '<User %r>' % self.username\n",
    "\n",
    "\n",
    "\n",
    "admin = User('admin3', 'adminkocholo')\n",
    "db.session.add(admin)\n",
    "db.session.commit()\n",
    "\n",
    "# db.create_all() # In case user table doesn't exists already. Else remove it.    \n",
    "\n",
    "# db.session.add(admin)\n",
    "\n",
    "# db.session.commit() # This is needed to write the changes to database\n",
    "\n",
    "User.query.all()\n",
    "\n",
    "# User.query.filter_by(username='admin').first()\n"
   ]
  },
  {
   "cell_type": "code",
   "execution_count": null,
   "metadata": {},
   "outputs": [],
   "source": []
  }
 ],
 "metadata": {
  "interpreter": {
   "hash": "916dbcbb3f70747c44a77c7bcd40155683ae19c65e1c03b4aa3499c5328201f1"
  },
  "kernelspec": {
   "display_name": "Python 3.8.10 64-bit",
   "language": "python",
   "name": "python3"
  },
  "language_info": {
   "codemirror_mode": {
    "name": "ipython",
    "version": 3
   },
   "file_extension": ".py",
   "mimetype": "text/x-python",
   "name": "python",
   "nbconvert_exporter": "python",
   "pygments_lexer": "ipython3",
   "version": "3.8.10"
  },
  "orig_nbformat": 4
 },
 "nbformat": 4,
 "nbformat_minor": 2
}
