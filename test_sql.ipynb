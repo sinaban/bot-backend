{
 "cells": [
  {
   "cell_type": "code",
   "execution_count": 23,
   "metadata": {},
   "outputs": [],
   "source": [
    "from flask_sqlalchemy import SQLAlchemy\n",
    "db = SQLAlchemy()\n",
    "class User(db.Model):\n",
    "    __tablename__ = 'users'\n",
    "    id = db.Column(db.Integer, primary_key=True)\n",
    "    username = db.Column(db.String(80), unique=True)\n",
    "    password = db.Column(db.String(120), unique=True)\n",
    "\n",
    "    def __init__(self, username, password):\n",
    "        self.username = username\n",
    "        self.password = password\n",
    "\n",
    "    def __repr__(self):\n",
    "        return '<User %r>' % self.username"
   ]
  },
  {
   "cell_type": "code",
   "execution_count": 2,
   "metadata": {},
   "outputs": [
    {
     "data": {
      "text/plain": [
       "[<User 'admin3'>]"
      ]
     },
     "execution_count": 2,
     "metadata": {},
     "output_type": "execute_result"
    }
   ],
   "source": [
    "from flask import Flask\n",
    "from flask_sqlalchemy import SQLAlchemy\n",
    "from urllib.parse import  quote\n",
    "\n",
    "app = Flask(__name__)\n",
    "app.config['SQLALCHEMY_DATABASE_URI'] = 'mysql+pymysql://root:%s@localhost/bot_trades'% quote('ro0t!@#')\n",
    "app.config['SQLALCHEMY_TRACK_MODIFICATIONS'] = False\n",
    "app.config['PROPAGATE_EXCEPTIONS'] = True\n",
    "app.secret_key = 'jose'\n",
    "db = SQLAlchemy(app)\n",
    "db.init_app(app)\n",
    "\n",
    "# api = Api(app)\n",
    "class User(db.Model):\n",
    "    __tablename__ = 'user'\n",
    "    id = db.Column(db.Integer, primary_key=True)\n",
    "    username = db.Column(db.String(80), unique=True)\n",
    "    password = db.Column(db.String(120), unique=True)\n",
    "\n",
    "    def __init__(self, username, password):\n",
    "        self.username = username\n",
    "        self.password = password\n",
    "\n",
    "    def __repr__(self):\n",
    "        return '<User %r>' % self.username\n",
    "\n",
    "\n",
    "\n",
    "admin = User('admin3', 'adminkocholo')\n",
    "db.session.add(admin)\n",
    "db.session.commit()\n",
    "\n",
    "# db.create_all() # In case user table doesn't exists already. Else remove it.    \n",
    "\n",
    "# db.session.add(admin)\n",
    "\n",
    "# db.session.commit() # This is needed to write the changes to database\n",
    "\n",
    "User.query.all()\n",
    "\n",
    "# User.query.filter_by(username='admin').first()\n"
   ]
  },
  {
   "cell_type": "code",
   "execution_count": 46,
   "metadata": {},
   "outputs": [
    {
     "name": "stdout",
     "output_type": "stream",
     "text": [
      "{'BBANDS5': {'IndicatorName': 'BBANDS', 'params': {'suffix': '5', 'CandlePricePoint': 'close', 'timeperiod': 5, 'nbdevup': 2, 'nbdevdn': 2, 'matype': 0}}, 'DEMA14': {'IndicatorName': 'DEMA', 'params': {'suffix': '14', 'CandlePricePoint': 'close', 'timeperiod': 12}}, 'EMA12': {'IndicatorName': 'EMA', 'params': {'suffix': '12', 'CandlePricePoint': 'close', 'timeperiod': 20}}}\n"
     ]
    }
   ],
   "source": [
    "import redis\n",
    "import json\n",
    "from pprint import pprint\n",
    "from redis.commands.json.path import Path\n",
    "\n",
    "\n",
    "\n",
    "redis_client = redis.Redis(\n",
    "     host= 'localhost',\n",
    "     port= '6379',\n",
    "     db=0)\n",
    "\n",
    "_bidPrice= \"bestBidPrice\"\n",
    "_askPrice= \"bestAskPrice\"\n",
    "_pairs = \"pairs\"\n",
    "\n",
    "# cnf=open('config.json','r')\n",
    "# config = json.load(cnf)\n",
    "\n",
    "\n",
    "def getAskPrice(pair) -> float:\n",
    "     price = redis_client.hget(pair, _askPrice)\n",
    "     price = price.decode()\n",
    "     if price is not None:\n",
    "          return (float)(price)\n",
    "     return None\n",
    "\n",
    "def getPairList() -> str:\n",
    "     pairList = redis_client.get(_pairs)\n",
    "     if pairList is not None:\n",
    "          print(pairList)\n",
    "          pairList = pairList.decode()\n",
    "          return pairList\n",
    "     print('empty pair list in redis')\n",
    "     return None\n",
    "\n",
    "def get_bot_config(botid) :\n",
    "     resp = redis_client.hget(\"bots:config\",botid)     \n",
    "     return resp\n",
    "\n",
    "def set_bot_config(botid,**kwargs) :\n",
    "     resp = redis_client.hset(\"bots:config\",botid,json.dumps(kwargs))     \n",
    "     return resp\n",
    "\n",
    "\n",
    "\n",
    "ind = {\n",
    "    \n",
    "    \"BBANDS5\" : { \"IndicatorName\": \"BBANDS\",\"params\" : {\"suffix\":\"5\",\"CandlePricePoint\" : \"close\", \"timeperiod\":5, \"nbdevup\":2, \"nbdevdn\":2, \"matype\":0}},\n",
    "    \"DEMA14\" : { \"IndicatorName\": \"DEMA\",\"params\" : {\"suffix\":\"14\",\"CandlePricePoint\" : \"close\", \"timeperiod\":12}},\n",
    "    \"EMA12\" : { \"IndicatorName\": \"EMA\",\"params\" : {\"suffix\":\"12\",\"CandlePricePoint\" : \"close\", \"timeperiod\":20}}\n",
    "\n",
    "}\n",
    "# test={\n",
    "\n",
    "#      \"config\":json.dumps(config)\n",
    "# }\n",
    "test2={\n",
    "     \"k4\":3,\n",
    "     \"K3\":4\n",
    "}\n",
    "\n",
    "# set_indicators(\"bots\",**ind)\n",
    "# print(redis_client.set(\"bottest\",\"sina:123\"))#json.dumps(config)\n",
    "# pprint(redis_client.get(\"bots\"))\n",
    "# # pairList = json.loads(redis_client.get(\"bots\"))\n",
    "# # # if pairList[botname] is not None:\n",
    "# # pprint(pairList)\n",
    "# print(redis_client.hset(\"bots\",\"1\",json.dumps(test)))\n",
    "# pprint(redis_client.hgetall(\"bots\"))\n",
    "# print(set_bot_config(\"1\",**test))\n",
    "# from indicators.config_template import config\n",
    "# set_bot_config(\"1\",**config)\n",
    "res=json.loads(get_bot_config(\"1\"))\n",
    "# print(res)\n",
    "print((res['buy_open_conditions']))\n",
    "# res['buy_open_conditions']= \"ind\"\n",
    "# print((res['buy_open_conditions']))\n",
    "# set_bot_config(\"1\",**res)\n",
    "\n",
    "\n",
    "\n",
    "\n"
   ]
  },
  {
   "cell_type": "code",
   "execution_count": 6,
   "metadata": {},
   "outputs": [
    {
     "name": "stdout",
     "output_type": "stream",
     "text": [
      "{'informatics': 100, 'math': 100, 'physics': 90}\n"
     ]
    }
   ],
   "source": [
    "import redis\n",
    "import json\n",
    "from pprint import pprint\n",
    "\n",
    "student = \\\n",
    "    {\n",
    "        \"name\": \"Alex\",\n",
    "        \"surname\": \"Fox\",\n",
    "        \"age\": \"18\",\n",
    "        \"university\": \"Stanford\",\n",
    "        \"grades\": {\n",
    "            \"math\": 100,\n",
    "            \"physics\": 90,\n",
    "            \"informatics\": 100\n",
    "        }\n",
    "    }\n",
    "grades = student[\"grades\"]\n",
    "pprint(grades)\n",
    "student[\"grades\"] = \"student:1:grades\"\n"
   ]
  },
  {
   "cell_type": "code",
   "execution_count": 27,
   "metadata": {},
   "outputs": [
    {
     "name": "stdout",
     "output_type": "stream",
     "text": [
      "/var/www/html/items-rest/indicators\n"
     ]
    },
    {
     "ename": "TypeError",
     "evalue": "the JSON object must be str, bytes or bytearray, not TextIOWrapper",
     "output_type": "error",
     "traceback": [
      "\u001b[0;31m---------------------------------------------------------------------------\u001b[0m",
      "\u001b[0;31mTypeError\u001b[0m                                 Traceback (most recent call last)",
      "\u001b[0;32m/tmp/ipykernel_390243/181428877.py\u001b[0m in \u001b[0;36m<module>\u001b[0;34m\u001b[0m\n\u001b[1;32m      5\u001b[0m \u001b[0mprint\u001b[0m\u001b[0;34m(\u001b[0m\u001b[0mscript_dir\u001b[0m\u001b[0;34m)\u001b[0m\u001b[0;34m\u001b[0m\u001b[0;34m\u001b[0m\u001b[0m\n\u001b[1;32m      6\u001b[0m \u001b[0mfconf\u001b[0m \u001b[0;34m=\u001b[0m \u001b[0mopen\u001b[0m\u001b[0;34m(\u001b[0m\u001b[0;34m\"/var/www/html/items-rest/indicators/config_template.json\"\u001b[0m\u001b[0;34m,\u001b[0m\u001b[0;34m'r'\u001b[0m\u001b[0;34m)\u001b[0m\u001b[0;34m\u001b[0m\u001b[0;34m\u001b[0m\u001b[0m\n\u001b[0;32m----> 7\u001b[0;31m \u001b[0mprint\u001b[0m\u001b[0;34m(\u001b[0m\u001b[0mjson\u001b[0m\u001b[0;34m.\u001b[0m\u001b[0mloads\u001b[0m\u001b[0;34m(\u001b[0m\u001b[0mfconf\u001b[0m\u001b[0;34m)\u001b[0m\u001b[0;34m)\u001b[0m\u001b[0;34m\u001b[0m\u001b[0;34m\u001b[0m\u001b[0m\n\u001b[0m",
      "\u001b[0;32m/usr/lib/python3.8/json/__init__.py\u001b[0m in \u001b[0;36mloads\u001b[0;34m(s, cls, object_hook, parse_float, parse_int, parse_constant, object_pairs_hook, **kw)\u001b[0m\n\u001b[1;32m    339\u001b[0m     \u001b[0;32melse\u001b[0m\u001b[0;34m:\u001b[0m\u001b[0;34m\u001b[0m\u001b[0;34m\u001b[0m\u001b[0m\n\u001b[1;32m    340\u001b[0m         \u001b[0;32mif\u001b[0m \u001b[0;32mnot\u001b[0m \u001b[0misinstance\u001b[0m\u001b[0;34m(\u001b[0m\u001b[0ms\u001b[0m\u001b[0;34m,\u001b[0m \u001b[0;34m(\u001b[0m\u001b[0mbytes\u001b[0m\u001b[0;34m,\u001b[0m \u001b[0mbytearray\u001b[0m\u001b[0;34m)\u001b[0m\u001b[0;34m)\u001b[0m\u001b[0;34m:\u001b[0m\u001b[0;34m\u001b[0m\u001b[0;34m\u001b[0m\u001b[0m\n\u001b[0;32m--> 341\u001b[0;31m             raise TypeError(f'the JSON object must be str, bytes or bytearray, '\n\u001b[0m\u001b[1;32m    342\u001b[0m                             f'not {s.__class__.__name__}')\n\u001b[1;32m    343\u001b[0m         \u001b[0ms\u001b[0m \u001b[0;34m=\u001b[0m \u001b[0ms\u001b[0m\u001b[0;34m.\u001b[0m\u001b[0mdecode\u001b[0m\u001b[0;34m(\u001b[0m\u001b[0mdetect_encoding\u001b[0m\u001b[0;34m(\u001b[0m\u001b[0ms\u001b[0m\u001b[0;34m)\u001b[0m\u001b[0;34m,\u001b[0m \u001b[0;34m'surrogatepass'\u001b[0m\u001b[0;34m)\u001b[0m\u001b[0;34m\u001b[0m\u001b[0;34m\u001b[0m\u001b[0m\n",
      "\u001b[0;31mTypeError\u001b[0m: the JSON object must be str, bytes or bytearray, not TextIOWrapper"
     ]
    }
   ],
   "source": [
    "import os\n",
    "import json\n",
    "\n",
    "script_dir = os.path.dirname(\"/var/www/html/items-rest/indicators/\")\n",
    "print(script_dir)\n",
    "fconf = open(\"/var/www/html/items-rest/indicators/config_template.json\",'r')\n",
    "print(json.loads(fconf))"
   ]
  },
  {
   "cell_type": "code",
   "execution_count": 18,
   "metadata": {},
   "outputs": [
    {
     "ename": "FileNotFoundError",
     "evalue": "[Errno 2] No such file or directory: '/indicators/'",
     "output_type": "error",
     "traceback": [
      "\u001b[0;31m---------------------------------------------------------------------------\u001b[0m",
      "\u001b[0;31mFileNotFoundError\u001b[0m                         Traceback (most recent call last)",
      "\u001b[0;32m/tmp/ipykernel_390243/4255823750.py\u001b[0m in \u001b[0;36m<module>\u001b[0;34m\u001b[0m\n\u001b[1;32m      1\u001b[0m \u001b[0;32mimport\u001b[0m \u001b[0mos\u001b[0m\u001b[0;34m\u001b[0m\u001b[0;34m\u001b[0m\u001b[0m\n\u001b[0;32m----> 2\u001b[0;31m \u001b[0;32mwith\u001b[0m \u001b[0mos\u001b[0m\u001b[0;34m.\u001b[0m\u001b[0mscandir\u001b[0m\u001b[0;34m(\u001b[0m\u001b[0;34m'/indicators/'\u001b[0m\u001b[0;34m)\u001b[0m \u001b[0;32mas\u001b[0m \u001b[0mdir_contents\u001b[0m\u001b[0;34m:\u001b[0m\u001b[0;34m\u001b[0m\u001b[0;34m\u001b[0m\u001b[0m\n\u001b[0m\u001b[1;32m      3\u001b[0m     \u001b[0;32mfor\u001b[0m \u001b[0mentry\u001b[0m \u001b[0;32min\u001b[0m \u001b[0mdir_contents\u001b[0m\u001b[0;34m:\u001b[0m\u001b[0;34m\u001b[0m\u001b[0;34m\u001b[0m\u001b[0m\n\u001b[1;32m      4\u001b[0m         \u001b[0minfo\u001b[0m \u001b[0;34m=\u001b[0m \u001b[0mentry\u001b[0m\u001b[0;34m.\u001b[0m\u001b[0mstat\u001b[0m\u001b[0;34m(\u001b[0m\u001b[0;34m)\u001b[0m\u001b[0;34m\u001b[0m\u001b[0;34m\u001b[0m\u001b[0m\n\u001b[1;32m      5\u001b[0m         \u001b[0mprint\u001b[0m\u001b[0;34m(\u001b[0m\u001b[0minfo\u001b[0m\u001b[0;34m.\u001b[0m\u001b[0mst_mtime\u001b[0m\u001b[0;34m)\u001b[0m\u001b[0;34m\u001b[0m\u001b[0;34m\u001b[0m\u001b[0m\n",
      "\u001b[0;31mFileNotFoundError\u001b[0m: [Errno 2] No such file or directory: '/indicators/'"
     ]
    }
   ],
   "source": [
    "import os\n",
    "with os.scandir('/indicators/') as dir_contents:\n",
    "    for entry in dir_contents:\n",
    "        info = entry.stat()\n",
    "        print(info.st_mtime)"
   ]
  },
  {
   "cell_type": "code",
   "execution_count": 19,
   "metadata": {},
   "outputs": [
    {
     "name": "stdout",
     "output_type": "stream",
     "text": [
      "Current working directory: /var/www/html/items-rest\n",
      "os.getcwd() returns an object of type: <class 'str'>\n"
     ]
    }
   ],
   "source": [
    "# Import the os module\n",
    "import os\n",
    "\n",
    "# Get the current working directory\n",
    "cwd = os.getcwd()\n",
    "\n",
    "# Print the current working directory\n",
    "print(\"Current working directory: {0}\".format(cwd))\n",
    "\n",
    "# Print the type of the returned object\n",
    "print(\"os.getcwd() returns an object of type: {0}\".format(type(cwd)))"
   ]
  },
  {
   "cell_type": "code",
   "execution_count": null,
   "metadata": {},
   "outputs": [],
   "source": []
  }
 ],
 "metadata": {
  "interpreter": {
   "hash": "916dbcbb3f70747c44a77c7bcd40155683ae19c65e1c03b4aa3499c5328201f1"
  },
  "kernelspec": {
   "display_name": "Python 3.8.10 64-bit",
   "language": "python",
   "name": "python3"
  },
  "language_info": {
   "codemirror_mode": {
    "name": "ipython",
    "version": 3
   },
   "file_extension": ".py",
   "mimetype": "text/x-python",
   "name": "python",
   "nbconvert_exporter": "python",
   "pygments_lexer": "ipython3",
   "version": "3.8.10"
  },
  "orig_nbformat": 4
 },
 "nbformat": 4,
 "nbformat_minor": 2
}
