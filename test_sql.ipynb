{
 "cells": [
  {
   "cell_type": "code",
   "execution_count": 23,
   "metadata": {},
   "outputs": [],
   "source": [
    "from flask_sqlalchemy import SQLAlchemy\n",
    "db = SQLAlchemy()\n",
    "class User(db.Model):\n",
    "    __tablename__ = 'users'\n",
    "    id = db.Column(db.Integer, primary_key=True)\n",
    "    username = db.Column(db.String(80), unique=True)\n",
    "    password = db.Column(db.String(120), unique=True)\n",
    "\n",
    "    def __init__(self, username, password):\n",
    "        self.username = username\n",
    "        self.password = password\n",
    "\n",
    "    def __repr__(self):\n",
    "        return '<User %r>' % self.username"
   ]
  },
  {
   "cell_type": "code",
   "execution_count": 2,
   "metadata": {},
   "outputs": [
    {
     "data": {
      "text/plain": [
       "[<User 'admin3'>]"
      ]
     },
     "execution_count": 2,
     "metadata": {},
     "output_type": "execute_result"
    }
   ],
   "source": [
    "from flask import Flask\n",
    "from flask_sqlalchemy import SQLAlchemy\n",
    "from urllib.parse import  quote\n",
    "\n",
    "app = Flask(__name__)\n",
    "app.config['SQLALCHEMY_DATABASE_URI'] = 'mysql+pymysql://root:%s@localhost/bot_trades'% quote('ro0t!@#')\n",
    "app.config['SQLALCHEMY_TRACK_MODIFICATIONS'] = False\n",
    "app.config['PROPAGATE_EXCEPTIONS'] = True\n",
    "app.secret_key = 'jose'\n",
    "db = SQLAlchemy(app)\n",
    "db.init_app(app)\n",
    "\n",
    "# api = Api(app)\n",
    "class User(db.Model):\n",
    "    __tablename__ = 'user'\n",
    "    id = db.Column(db.Integer, primary_key=True)\n",
    "    username = db.Column(db.String(80), unique=True)\n",
    "    password = db.Column(db.String(120), unique=True)\n",
    "\n",
    "    def __init__(self, username, password):\n",
    "        self.username = username\n",
    "        self.password = password\n",
    "\n",
    "    def __repr__(self):\n",
    "        return '<User %r>' % self.username\n",
    "\n",
    "\n",
    "\n",
    "admin = User('admin3', 'adminkocholo')\n",
    "db.session.add(admin)\n",
    "db.session.commit()\n",
    "\n",
    "# db.create_all() # In case user table doesn't exists already. Else remove it.    \n",
    "\n",
    "# db.session.add(admin)\n",
    "\n",
    "# db.session.commit() # This is needed to write the changes to database\n",
    "\n",
    "User.query.all()\n",
    "\n",
    "# User.query.filter_by(username='admin').first()\n"
   ]
  },
  {
   "cell_type": "code",
   "execution_count": 47,
   "metadata": {},
   "outputs": [
    {
     "name": "stdout",
     "output_type": "stream",
     "text": [
      "{'ADAUSDTM': {'formal_name': 'ADA/USDT', 'lotRatio': 0.1, 'size': 2, 'long_sl': 1, 'short_sl': 1, 'volatility_ratio': 0.0062, 'atr_slope_ratio': 0.0007}, 'BNBUSDTM': {'formal_name': 'BNB/USDT', 'lotRatio': 100, 'size': 4, 'long_sl': 1, 'short_sl': 1, 'volatility_ratio': 0.009, 'atr_slope_ratio': 0.1}, 'XBTUSDTM': {'formal_name': 'BTC/USDT', 'lotRatio': 1000, 'size': 1, 'long_sl': 1, 'short_sl': 1, 'volatility_ratio': 955, 'atr_slope_ratio': 0.9}, 'ETHUSDTM': {'formal_name': 'ETH/USDT', 'lotRatio': 100, 'size': 1, 'long_sl': 1, 'short_sl': 1, 'volatility_ratio': 100, 'atr_slope_ratio': 0.5}, 'SOLUSDTM': {'formal_name': 'SOL/USDT', 'lotRatio': 10, 'size': 2, 'long_sl': 1, 'short_sl': 1, 'volatility_ratio': 10, 'atr_slope_ratio': 0.1}}\n"
     ]
    }
   ],
   "source": [
    "import redis\n",
    "import json\n",
    "from pprint import pprint\n",
    "from redis.commands.json.path import Path\n",
    "\n",
    "\n",
    "\n",
    "redis_client = redis.Redis(\n",
    "     host= 'localhost',\n",
    "     port= '6379',\n",
    "     db=0)\n",
    "\n",
    "_bidPrice= \"bestBidPrice\"\n",
    "_askPrice= \"bestAskPrice\"\n",
    "_pairs = \"pairs\"\n",
    "\n",
    "cnf=open('config.json','r')\n",
    "config = json.load(cnf)\n",
    "\n",
    "\n",
    "def getAskPrice(pair) -> float:\n",
    "     price = redis_client.hget(pair, _askPrice)\n",
    "     price = price.decode()\n",
    "     if price is not None:\n",
    "          return (float)(price)\n",
    "     return None\n",
    "\n",
    "def getPairList() -> str:\n",
    "     pairList = redis_client.get(_pairs)\n",
    "     if pairList is not None:\n",
    "          print(pairList)\n",
    "          pairList = pairList.decode()\n",
    "          return pairList\n",
    "     print('empty pair list in redis')\n",
    "     return None\n",
    "\n",
    "def get_bot_config(botid) :\n",
    "     resp = redis_client.hget(\"bots:config\",botid)     \n",
    "     return resp\n",
    "\n",
    "def set_bot_config(botid,**kwargs) :\n",
    "     resp = redis_client.hset(\"bots:config\",botid,json.dumps(kwargs))     \n",
    "     return resp\n",
    "\n",
    "\n",
    "\n",
    "ind = {\n",
    "    \"indicators\": {\n",
    "    \"BBANDS5\" : { \"IndicatorName\": \"BBANDS\",\"params\" : {\"suffix\":\"5\",\"CandlePricePoint\" : \"close\", \"timeperiod\":5, \"nbdevup\":2, \"nbdevdn\":2, \"matype\":0}},\n",
    "    \"DEMA14\" : { \"IndicatorName\": \"DEMA\",\"params\" : {\"suffix\":\"14\",\"CandlePricePoint\" : \"close\", \"timeperiod\":12}},\n",
    "    \"EMA12\" : { \"IndicatorName\": \"EMA\",\"params\" : {\"suffix\":\"12\",\"CandlePricePoint\" : \"close\", \"timeperiod\":20}}\n",
    "}\n",
    "}\n",
    "test={\n",
    "\n",
    "     \"config\":json.dumps(config)\n",
    "}\n",
    "test2={\n",
    "     \"k4\":3,\n",
    "     \"K3\":4\n",
    "}\n",
    "\n",
    "# set_indicators(\"bots\",**ind)\n",
    "# print(redis_client.set(\"bottest\",\"sina:123\"))#json.dumps(config)\n",
    "# pprint(redis_client.get(\"bots\"))\n",
    "# # pairList = json.loads(redis_client.get(\"bots\"))\n",
    "# # # if pairList[botname] is not None:\n",
    "# # pprint(pairList)\n",
    "# print(redis_client.hset(\"bots\",\"1\",json.dumps(test)))\n",
    "# pprint(redis_client.hgetall(\"bots\"))\n",
    "# print(set_bot_config(\"1\",**test))\n",
    "res=json.loads(get_bot_config(\"1\"))\n",
    "print(json.loads(res['config'])[\"pair_whitelist\"])\n",
    "\n",
    "\n",
    "\n",
    "\n"
   ]
  },
  {
   "cell_type": "code",
   "execution_count": 6,
   "metadata": {},
   "outputs": [
    {
     "name": "stdout",
     "output_type": "stream",
     "text": [
      "{'informatics': 100, 'math': 100, 'physics': 90}\n"
     ]
    }
   ],
   "source": [
    "import redis\n",
    "import json\n",
    "from pprint import pprint\n",
    "\n",
    "student = \\\n",
    "    {\n",
    "        \"name\": \"Alex\",\n",
    "        \"surname\": \"Fox\",\n",
    "        \"age\": \"18\",\n",
    "        \"university\": \"Stanford\",\n",
    "        \"grades\": {\n",
    "            \"math\": 100,\n",
    "            \"physics\": 90,\n",
    "            \"informatics\": 100\n",
    "        }\n",
    "    }\n",
    "grades = student[\"grades\"]\n",
    "pprint(grades)\n",
    "student[\"grades\"] = \"student:1:grades\"\n"
   ]
  },
  {
   "cell_type": "code",
   "execution_count": null,
   "metadata": {},
   "outputs": [],
   "source": []
  }
 ],
 "metadata": {
  "interpreter": {
   "hash": "916dbcbb3f70747c44a77c7bcd40155683ae19c65e1c03b4aa3499c5328201f1"
  },
  "kernelspec": {
   "display_name": "Python 3.8.10 64-bit",
   "language": "python",
   "name": "python3"
  },
  "language_info": {
   "codemirror_mode": {
    "name": "ipython",
    "version": 3
   },
   "file_extension": ".py",
   "mimetype": "text/x-python",
   "name": "python",
   "nbconvert_exporter": "python",
   "pygments_lexer": "ipython3",
   "version": "3.8.10"
  },
  "orig_nbformat": 4
 },
 "nbformat": 4,
 "nbformat_minor": 2
}
